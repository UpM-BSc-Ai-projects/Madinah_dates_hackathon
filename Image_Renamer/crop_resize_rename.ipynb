{
 "cells": [
  {
   "cell_type": "code",
   "id": "initial_id",
   "metadata": {
    "collapsed": true,
    "ExecuteTime": {
     "end_time": "2024-09-23T10:20:32.202198Z",
     "start_time": "2024-09-23T10:20:32.180536Z"
    }
   },
   "source": [
    "import os\n",
    "from PIL import Image"
   ],
   "outputs": [],
   "execution_count": 1
  },
  {
   "metadata": {
    "ExecuteTime": {
     "end_time": "2024-09-23T10:20:35.929209Z",
     "start_time": "2024-09-23T10:20:35.927367Z"
    }
   },
   "cell_type": "code",
   "source": [
    "# Define the path to your dataset directory\n",
    "dataset_dir = ''  # Modify this to your dataset directory path\n",
    "categories = ['ambar']  # List of your date types (folders)\n",
    "\n",
    "# Define the target size for resizing and cropping (224x224)\n",
    "target_size = (224, 224)\n"
   ],
   "id": "16cad371129c3afb",
   "outputs": [],
   "execution_count": 2
  },
  {
   "metadata": {},
   "cell_type": "code",
   "outputs": [],
   "execution_count": null,
   "source": [
    "# Function to rename and replace the original image\n",
    "def rename_images():\n",
    "    for category in categories:\n",
    "        category_path = os.path.join(dataset_dir, category)\n",
    "\n",
    "        # Check if the folder exists\n",
    "        if not os.path.exists(category_path):\n",
    "            print(f\"Directory {category_path} does not exist.\")\n",
    "            continue\n",
    "\n",
    "        # Get all image files in the folder\n",
    "        images = os.listdir(category_path)\n",
    "\n",
    "        # Loop through each image and process it\n",
    "        for idx, image_name in enumerate(images):\n",
    "            image_path = os.path.join(category_path, image_name)\n",
    "\n",
    "            # Skip non-image files\n",
    "            if not image_name.lower().endswith(('.png', '.jpg', '.jpeg', '.tiff', '.bmp', '.gif')):\n",
    "                print(f\"Skipping non-image file: {image_name}\")\n",
    "                continue\n",
    "\n",
    "            # Create new image name\n",
    "            new_image_name = f\"{category}_{idx + 1}.jpg\"\n",
    "            new_image_path = os.path.join(category_path, new_image_name)\n",
    "\n",
    "            # Rename the file (move the image to the new path with the new name)\n",
    "            os.rename(image_path, new_image_path)\n",
    "            print(f\"Renamed {image_name} to {new_image_name}\")"
   ],
   "id": "98c5659a1044d639"
  },
  {
   "metadata": {},
   "cell_type": "code",
   "outputs": [],
   "execution_count": null,
   "source": [
    "# Function to crop the image (center crop to a square)\n",
    "def crop_image(image_path, target_size):\n",
    "    try:\n",
    "        with Image.open(image_path) as img:\n",
    "            width, height = img.size\n",
    "            new_width, new_height = target_size\n",
    "\n",
    "            # Determine cropping box to maintain center focus\n",
    "            left = (width - new_width) / 2\n",
    "            top = (height - new_height) / 2\n",
    "            right = (width + new_width) / 2\n",
    "            bottom = (height + new_height) / 2\n",
    "\n",
    "            # Crop the image using the calculated box\n",
    "            img_cropped = img.crop((left, top, right, bottom))\n",
    "\n",
    "            # Save the cropped image, replacing the original\n",
    "            img_cropped.save(image_path)\n",
    "            print(f\"Cropped and replaced: {image_path}\")\n",
    "\n",
    "    except Exception as e:\n",
    "        print(f\"Error cropping {image_path}: {e}\")\n"
   ],
   "id": "171f9627324b49b"
  },
  {
   "metadata": {},
   "cell_type": "code",
   "outputs": [],
   "execution_count": null,
   "source": [
    "# Function to resize and save images with high quality\n",
    "def resize_image(image_path, target_size):\n",
    "    try:\n",
    "        with Image.open(image_path) as img:\n",
    "            # Resize the image using high-quality resampling\n",
    "            img_resized = img.resize(target_size, Image.LANCZOS)\n",
    "\n",
    "            # Save the resized image, replacing the original\n",
    "            img_resized.save(image_path, quality=95)  # Save with high quality\n",
    "            print(f\"Resized and replaced: {image_path}\")\n",
    "\n",
    "    except Exception as e:\n",
    "        print(f\"Error resizing {image_path}: {e}\")"
   ],
   "id": "61053adde0bba9a5"
  }
 ],
 "metadata": {
  "kernelspec": {
   "display_name": "Python 3",
   "language": "python",
   "name": "python3"
  },
  "language_info": {
   "codemirror_mode": {
    "name": "ipython",
    "version": 2
   },
   "file_extension": ".py",
   "mimetype": "text/x-python",
   "name": "python",
   "nbconvert_exporter": "python",
   "pygments_lexer": "ipython2",
   "version": "2.7.6"
  }
 },
 "nbformat": 4,
 "nbformat_minor": 5
}
