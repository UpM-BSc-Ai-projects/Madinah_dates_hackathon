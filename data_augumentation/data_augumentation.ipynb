{
 "cells": [
  {
   "cell_type": "code",
   "id": "initial_id",
   "metadata": {
    "collapsed": true,
    "ExecuteTime": {
     "end_time": "2024-09-23T11:12:05.786623Z",
     "start_time": "2024-09-23T11:12:05.784243Z"
    }
   },
   "source": [
    "import os\n",
    "import numpy as np\n",
    "import matplotlib.pyplot as plt\n",
    "from tensorflow.keras.preprocessing.image import ImageDataGenerator, load_img, img_to_array, save_img"
   ],
   "outputs": [],
   "execution_count": 22
  },
  {
   "metadata": {
    "ExecuteTime": {
     "end_time": "2024-09-23T11:12:05.795676Z",
     "start_time": "2024-09-23T11:12:05.793750Z"
    }
   },
   "cell_type": "code",
   "source": [
    "# Set paths\n",
    "input_folder = 'ambar'\n",
    "output_folder = 'augumented'\n",
    "\n",
    "# Create the output folder if it doesn't exist\n",
    "if not os.path.exists(output_folder):\n",
    "    os.makedirs(output_folder)"
   ],
   "id": "f046e1f2524babac",
   "outputs": [],
   "execution_count": 23
  },
  {
   "metadata": {
    "ExecuteTime": {
     "end_time": "2024-09-23T11:12:05.802704Z",
     "start_time": "2024-09-23T11:12:05.800862Z"
    }
   },
   "cell_type": "code",
   "source": [
    "def show_image(img_array, title='Augmented Image'):\n",
    "    \"\"\"Function to display an image.\"\"\"\n",
    "    plt.imshow(img_array.astype('uint8'))\n",
    "    plt.title(title)\n",
    "    plt.axis('off')\n",
    "    plt.show()"
   ],
   "id": "be3e03edadb3f843",
   "outputs": [],
   "execution_count": 24
  },
  {
   "metadata": {
    "ExecuteTime": {
     "end_time": "2024-09-23T11:12:05.811362Z",
     "start_time": "2024-09-23T11:12:05.809320Z"
    }
   },
   "cell_type": "code",
   "source": [
    "\n",
    "# Function for rotation\n",
    "\n",
    "def augment_rotation(img_array, save_prefix):\n",
    "    datagen = ImageDataGenerator(rotation_range=40)\n",
    "    for i, batch in enumerate(datagen.flow(img_array, batch_size=1)):\n",
    "        show_image(batch[0], title='Rotation Augmentation')\n",
    "        plt.pause(0.001)  # Pause to allow the image to render\n",
    "        if i >= 4:  # Generate 5 images\n",
    "            break\n",
    "    save_img(os.path.join(output_folder, save_prefix + '_rot.jpg'), batch[0])"
   ],
   "id": "93a29be0e44a51b8",
   "outputs": [],
   "execution_count": 25
  },
  {
   "metadata": {
    "ExecuteTime": {
     "end_time": "2024-09-23T11:12:05.824737Z",
     "start_time": "2024-09-23T11:12:05.822501Z"
    }
   },
   "cell_type": "code",
   "source": [
    "# Function for zooming\n",
    "def augment_zoom(img_array, save_prefix):\n",
    "    datagen = ImageDataGenerator(zoom_range=0.2)\n",
    "    for i, batch in enumerate(datagen.flow(img_array, batch_size=1)):\n",
    "        show_image(batch[0], title='Zoom Augmentation')\n",
    "        plt.pause(0.001)\n",
    "        if i >= 4:\n",
    "            break\n",
    "    save_img(os.path.join(output_folder, save_prefix + '_zoom.jpg'), batch[0])\n",
    "\n",
    "\n"
   ],
   "id": "aea7632a0c8dc222",
   "outputs": [],
   "execution_count": 26
  },
  {
   "metadata": {
    "ExecuteTime": {
     "end_time": "2024-09-23T11:12:05.830844Z",
     "start_time": "2024-09-23T11:12:05.828243Z"
    }
   },
   "cell_type": "code",
   "source": [
    "# Function for cropping (using shifts)\n",
    "def augment_shift(img_array, save_prefix):\n",
    "    datagen = ImageDataGenerator(width_shift_range=0.2, height_shift_range=0.2)\n",
    "    for i, batch in enumerate(datagen.flow(img_array, batch_size=1)):\n",
    "        show_image(batch[0], title='Shift Augmentation')\n",
    "        plt.pause(0.001)\n",
    "        if i >= 4:\n",
    "            break\n",
    "    save_img(os.path.join(output_folder, save_prefix + '_shift.jpg'), batch[0])"
   ],
   "id": "dacd064648baaa9c",
   "outputs": [],
   "execution_count": 27
  },
  {
   "metadata": {
    "ExecuteTime": {
     "end_time": "2024-09-23T11:12:05.838810Z",
     "start_time": "2024-09-23T11:12:05.835837Z"
    }
   },
   "cell_type": "code",
   "source": [
    "# Function for horizontal flip\n",
    "def augment_horizontal_flip(img_array, save_prefix):\n",
    "    datagen = ImageDataGenerator(horizontal_flip=True)\n",
    "    for i, batch in enumerate(datagen.flow(img_array, batch_size=1)):\n",
    "        show_image(batch[0], title='Horizontal Flip Augmentation')\n",
    "        plt.pause(0.001)\n",
    "        if i >= 4:\n",
    "            break\n",
    "    save_img(os.path.join(output_folder, save_prefix + '_hflip.jpg'), batch[0])\n",
    "\n",
    "# Function for vertical flip\n",
    "def augment_vertical_flip(img_array, save_prefix):\n",
    "    datagen = ImageDataGenerator(vertical_flip=True)\n",
    "    for i, batch in enumerate(datagen.flow(img_array, batch_size=1)):\n",
    "        show_image(batch[0], title='Vertical Flip Augmentation')\n",
    "        plt.pause(0.001)\n",
    "        if i >= 4:\n",
    "            break\n",
    "    save_img(os.path.join(output_folder, save_prefix + '_vflip.jpg'), batch[0])\n"
   ],
   "id": "5c15d322f4d4a500",
   "outputs": [],
   "execution_count": 28
  },
  {
   "metadata": {
    "ExecuteTime": {
     "end_time": "2024-09-23T11:12:05.845530Z",
     "start_time": "2024-09-23T11:12:05.843383Z"
    }
   },
   "cell_type": "code",
   "source": [
    "# Function for brightness adjustment\n",
    "def augment_brightness(img_array, save_prefix):\n",
    "    datagen = ImageDataGenerator(brightness_range=[0.5, 1.5])\n",
    "    for i, batch in enumerate(datagen.flow(img_array, batch_size=1)):\n",
    "        show_image(batch[0], title='Brightness Augmentation')\n",
    "        plt.pause(0.001)\n",
    "        if i >= 4:\n",
    "            break\n",
    "    save_img(os.path.join(output_folder, save_prefix + '_bright.jpg'), batch[0])\n"
   ],
   "id": "539bc41f05104e3",
   "outputs": [],
   "execution_count": 29
  },
  {
   "metadata": {
    "ExecuteTime": {
     "end_time": "2024-09-23T11:12:05.854033Z",
     "start_time": "2024-09-23T11:12:05.851799Z"
    }
   },
   "cell_type": "code",
   "source": [
    "# Function for adding noise (Gaussian noise)\n",
    "def augment_noise(img_array, save_prefix):\n",
    "    noise_factor = 0.1  # Change this value for more or less noise\n",
    "    noisy_img = img_array + noise_factor * np.random.normal(loc=0.0, scale=1.0, size=img_array.shape)\n",
    "    noisy_img = np.clip(noisy_img, 0., 255.)\n",
    "    show_image(noisy_img[0], title='Noise Augmentation')\n",
    "    save_img(os.path.join(output_folder, save_prefix + '_noise.jpg'), noisy_img[0])\n",
    "\n"
   ],
   "id": "ffd8760a4f386a79",
   "outputs": [],
   "execution_count": 30
  },
  {
   "metadata": {
    "ExecuteTime": {
     "end_time": "2024-09-23T11:12:05.860208Z",
     "start_time": "2024-09-23T11:12:05.858278Z"
    }
   },
   "cell_type": "code",
   "source": [
    "# Function for sharpening\n",
    "def augment_sharpen(img_array, save_prefix):\n",
    "    from scipy.ndimage import gaussian_filter\n",
    "    sharpened_img = img_array - gaussian_filter(img_array, sigma=1)\n",
    "    sharpened_img = np.clip(sharpened_img, 0., 255.)\n",
    "    show_image(sharpened_img[0], title='Sharpening Augmentation')\n",
    "    save_img(os.path.join(output_folder, save_prefix + '_sharp.jpg'), sharpened_img[0])\n"
   ],
   "id": "34bcbf6f32f48ce6",
   "outputs": [],
   "execution_count": 31
  },
  {
   "metadata": {
    "ExecuteTime": {
     "end_time": "2024-09-23T11:12:05.867515Z",
     "start_time": "2024-09-23T11:12:05.865150Z"
    }
   },
   "cell_type": "code",
   "source": [
    "# Function for applying color jitter\n",
    "def augment_color_jitter(img_array, save_prefix):\n",
    "    datagen = ImageDataGenerator(\n",
    "        brightness_range=[0.5, 1.5],\n",
    "        shear_range=0.2,\n",
    "        zoom_range=0.2,\n",
    "        rotation_range=40\n",
    "    )\n",
    "    for i, batch in enumerate(datagen.flow(img_array, batch_size=1)):\n",
    "        show_image(batch[0], title='Color Jitter Augmentation')\n",
    "        plt.pause(0.001)\n",
    "        if i >= 4:\n",
    "            break\n",
    "    save_img(os.path.join(output_folder, save_prefix + '_color_jitter.jpg'), batch[0])\n"
   ],
   "id": "28824b3792f4984d",
   "outputs": [],
   "execution_count": 32
  },
  {
   "metadata": {
    "ExecuteTime": {
     "end_time": "2024-09-23T11:12:05.875354Z",
     "start_time": "2024-09-23T11:12:05.873363Z"
    }
   },
   "cell_type": "code",
   "source": [
    "# Function for affine transformations\n",
    "def augment_affine(img_array, save_prefix):\n",
    "    datagen = ImageDataGenerator(\n",
    "        shear_range=0.2,\n",
    "        rotation_range=40,\n",
    "        zoom_range=0.2\n",
    "    )\n",
    "    for i, batch in enumerate(datagen.flow(img_array, batch_size=1)):\n",
    "        show_image(batch[0], title='Affine Augmentation')\n",
    "        plt.pause(0.001)\n",
    "        if i >= 4:\n",
    "            break\n",
    "    save_img(os.path.join(output_folder, save_prefix + '_affine.jpg'), batch[0])"
   ],
   "id": "864e29913a964e8c",
   "outputs": [],
   "execution_count": 33
  },
  {
   "metadata": {
    "ExecuteTime": {
     "end_time": "2024-09-23T11:12:05.882433Z",
     "start_time": "2024-09-23T11:12:05.879737Z"
    }
   },
   "cell_type": "code",
   "source": [
    "# Main function to process images\n",
    "def process_images():\n",
    "    for image_file in os.listdir(input_folder):\n",
    "        if image_file.endswith('.jpg') or image_file.endswith('.png'):\n",
    "            img_path = os.path.join(input_folder, image_file)\n",
    "            img = load_img(img_path)  # Load image\n",
    "            img_array = img_to_array(img)  # Convert to array\n",
    "            img_array = img_array.reshape((1,) + img_array.shape)  # Reshape\n",
    "\n",
    "            # Call each augmentation function independently\n",
    "            augment_rotation(img_array, image_file.split('.')[0])\n",
    "            augment_horizontal_flip(img_array, image_file.split('.')[0])\n",
    "            augment_vertical_flip(img_array, image_file.split('.')[0])\n",
    "            augment_zoom(img_array, image_file.split('.')[0])\n",
    "            augment_shift(img_array, image_file.split('.')[0])\n",
    "            augment_brightness(img_array, image_file.split('.')[0])\n",
    "            augment_noise(img_array, image_file.split('.')[0])\n",
    "            augment_sharpen(img_array, image_file.split('.')[0])\n",
    "            augment_color_jitter(img_array, image_file.split('.')[0])\n",
    "            augment_affine(img_array, image_file.split('.')[0])\n",
    "\n",
    "    print(\"All augmentations complete!\")"
   ],
   "id": "4c9dd4196e5ddd9",
   "outputs": [],
   "execution_count": 34
  },
  {
   "metadata": {
    "ExecuteTime": {
     "end_time": "2024-09-23T11:15:59.167002Z",
     "start_time": "2024-09-23T11:15:59.164445Z"
    }
   },
   "cell_type": "code",
   "source": [
    "# Run the processing function\n",
    "process_images()"
   ],
   "id": "e1e23db6ed3252d5",
   "outputs": [],
   "execution_count": 1
  },
  {
   "metadata": {},
   "cell_type": "code",
   "outputs": [],
   "execution_count": null,
   "source": "",
   "id": "5ae7cbe7a202f30"
  }
 ],
 "metadata": {
  "kernelspec": {
   "display_name": "Python 3",
   "language": "python",
   "name": "python3"
  },
  "language_info": {
   "codemirror_mode": {
    "name": "ipython",
    "version": 2
   },
   "file_extension": ".py",
   "mimetype": "text/x-python",
   "name": "python",
   "nbconvert_exporter": "python",
   "pygments_lexer": "ipython2",
   "version": "2.7.6"
  }
 },
 "nbformat": 4,
 "nbformat_minor": 5
}
